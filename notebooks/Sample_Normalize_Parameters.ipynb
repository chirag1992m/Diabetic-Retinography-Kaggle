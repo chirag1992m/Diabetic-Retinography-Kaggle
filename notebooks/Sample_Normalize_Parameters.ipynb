{
 "cells": [
  {
   "cell_type": "code",
   "execution_count": 1,
   "metadata": {
    "collapsed": true
   },
   "outputs": [],
   "source": [
    "image = require 'image'"
   ]
  },
  {
   "cell_type": "code",
   "execution_count": 2,
   "metadata": {
    "collapsed": true
   },
   "outputs": [],
   "source": [
    "sample = torch.load('../data/sample_full_metadata.t7')"
   ]
  },
  {
   "cell_type": "code",
   "execution_count": 3,
   "metadata": {
    "collapsed": true
   },
   "outputs": [],
   "source": [
    "normalize_parameters = {\n",
    "    mean = {\n",
    "        0.0,\n",
    "        0.0,\n",
    "        0.0\n",
    "    },\n",
    "    \n",
    "    std = {\n",
    "        1.0,\n",
    "        1.0,\n",
    "        1.0\n",
    "    }\n",
    "}"
   ]
  },
  {
   "cell_type": "code",
   "execution_count": 4,
   "metadata": {
    "collapsed": true
   },
   "outputs": [],
   "source": [
    "size = sample:size(1)"
   ]
  },
  {
   "cell_type": "code",
   "execution_count": 7,
   "metadata": {
    "collapsed": false
   },
   "outputs": [],
   "source": [
    "images = torch.Tensor(size, 3, 128, 128)"
   ]
  },
  {
   "cell_type": "code",
   "execution_count": 9,
   "metadata": {
    "collapsed": false
   },
   "outputs": [],
   "source": [
    "for i=1, size do\n",
    "    if sample[i][2] == 1 then\n",
    "        image_name = tostring(sample[i][1]) .. '_left.jpeg'\n",
    "    else\n",
    "        image_name = tostring(sample[i][1]) .. '_right.jpeg'\n",
    "    end\n",
    "    images[i] = image.load('../data/sample_cropped_128/' .. image_name)\n",
    "end"
   ]
  },
  {
   "cell_type": "code",
   "execution_count": 11,
   "metadata": {
    "collapsed": false
   },
   "outputs": [],
   "source": [
    "for i=1, 3 do\n",
    "    normalize_parameters.mean[i] = images[{{}, i, {}, {}}]:mean()\n",
    "    normalize_parameters.std[i] = images[{{}, i, {}, {}}]:std()\n",
    "end"
   ]
  },
  {
   "cell_type": "code",
   "execution_count": 13,
   "metadata": {
    "collapsed": false
   },
   "outputs": [
    {
     "data": {
      "text/plain": [
       "\n"
      ]
     },
     "execution_count": 13,
     "metadata": {},
     "output_type": "execute_result"
    }
   ],
   "source": [
    "torch.save('../data/sample_cropped_128/normalize_parameters.t7', normalize_parameters)"
   ]
  },
  {
   "cell_type": "code",
   "execution_count": 14,
   "metadata": {
    "collapsed": true
   },
   "outputs": [],
   "source": [
    "images = torch.Tensor(size, 3, 256, 256)\n",
    "\n",
    "for i=1, size do\n",
    "    if sample[i][2] == 1 then\n",
    "        image_name = tostring(sample[i][1]) .. '_left.jpeg'\n",
    "    else\n",
    "        image_name = tostring(sample[i][1]) .. '_right.jpeg'\n",
    "    end\n",
    "    images[i] = image.load('../data/sample_cropped_256/' .. image_name)\n",
    "end\n",
    "\n",
    "for i=1, 3 do\n",
    "    normalize_parameters.mean[i] = images[{{}, i, {}, {}}]:mean()\n",
    "    normalize_parameters.std[i] = images[{{}, i, {}, {}}]:std()\n",
    "end\n",
    "\n",
    "torch.save('../data/sample_cropped_256/normalize_parameters.t7', normalize_parameters)"
   ]
  },
  {
   "cell_type": "code",
   "execution_count": 15,
   "metadata": {
    "collapsed": true
   },
   "outputs": [],
   "source": [
    "images = torch.Tensor(size, 3, 512, 512)\n",
    "\n",
    "for i=1, size do\n",
    "    if sample[i][2] == 1 then\n",
    "        image_name = tostring(sample[i][1]) .. '_left.jpeg'\n",
    "    else\n",
    "        image_name = tostring(sample[i][1]) .. '_right.jpeg'\n",
    "    end\n",
    "    images[i] = image.load('../data/sample_cropped_512/' .. image_name)\n",
    "end\n",
    "\n",
    "for i=1, 3 do\n",
    "    normalize_parameters.mean[i] = images[{{}, i, {}, {}}]:mean()\n",
    "    normalize_parameters.std[i] = images[{{}, i, {}, {}}]:std()\n",
    "end\n",
    "\n",
    "torch.save('../data/sample_cropped_512/normalize_parameters.t7', normalize_parameters)"
   ]
  },
  {
   "cell_type": "code",
   "execution_count": null,
   "metadata": {
    "collapsed": true
   },
   "outputs": [],
   "source": []
  }
 ],
 "metadata": {
  "anaconda-cloud": {},
  "kernelspec": {
   "display_name": "iTorch",
   "language": "lua",
   "name": "itorch"
  },
  "language_info": {
   "name": "lua",
   "version": "5.1"
  }
 },
 "nbformat": 4,
 "nbformat_minor": 1
}
