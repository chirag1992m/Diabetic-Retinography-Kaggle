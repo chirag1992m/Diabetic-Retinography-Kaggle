{
 "cells": [
  {
   "cell_type": "code",
   "execution_count": 1,
   "metadata": {
    "collapsed": true
   },
   "outputs": [],
   "source": [
    "image = require 'image'"
   ]
  },
  {
   "cell_type": "code",
   "execution_count": 4,
   "metadata": {
    "collapsed": true
   },
   "outputs": [],
   "source": [
    "sample_data = torch.load('../data/sample_full_metadata.t7')"
   ]
  },
  {
   "cell_type": "code",
   "execution_count": 5,
   "metadata": {
    "collapsed": false
   },
   "outputs": [
    {
     "data": {
      "text/plain": [
       "   13     1     2   282     0  2310  1944\n",
       "   13     2     1   282     0  2310  1944\n",
       "   17     1     4   705   101  3174  2563\n",
       "   17     2     3   705   101  3174  2563\n",
       "   16     1     6   318     0  3600  2592\n",
       "   16     2     5   324     0  3576  2592\n",
       "   10     1     8   855   135  3865  3132\n",
       "   10     2     7   858   137  3865  3131\n",
       "   15     1    10   860    45  4049  3234\n",
       "   15     2     9   860    46  4050  3234\n",
       "[torch.LongTensor of size 10x7]\n",
       "\n"
      ]
     },
     "execution_count": 5,
     "metadata": {},
     "output_type": "execute_result"
    }
   ],
   "source": [
    "sample_data"
   ]
  },
  {
   "cell_type": "code",
   "execution_count": 16,
   "metadata": {
    "collapsed": false
   },
   "outputs": [],
   "source": [
    "for i=1, sample_data:size(1) do\n",
    "    if sample_data[i][2] == 1 then\n",
    "        file_name = string.format(\"%d_left.jpeg\", sample_data[i][1])\n",
    "    else\n",
    "        file_name = string.format(\"%d_right.jpeg\", sample_data[i][1])\n",
    "    end\n",
    "    \n",
    "    img = image.load('../data/sample/' .. file_name)\n",
    "    \n",
    "    --Crop the image according to the parameters given and then resize and save\n",
    "    cropped = image.crop(img, sample_data[i][4], sample_data[i][5], sample_data[i][6], sample_data[i][7])\n",
    "    \n",
    "    resized_1 = image.scale(cropped, 128, 128)\n",
    "    image.save('../data/sample_cropped_128/' .. file_name, resized_1)\n",
    "    \n",
    "    resized_2 = image.scale(cropped, 256, 256)\n",
    "    image.save('../data/sample_cropped_256/' .. file_name, resized_2)\n",
    "    \n",
    "    resized_3 = image.scale(cropped, 512, 512)\n",
    "    image.save('../data/sample_cropped_512/' .. file_name, resized_3)\n",
    "end"
   ]
  },
  {
   "cell_type": "code",
   "execution_count": null,
   "metadata": {
    "collapsed": true
   },
   "outputs": [],
   "source": []
  }
 ],
 "metadata": {
  "anaconda-cloud": {},
  "kernelspec": {
   "display_name": "iTorch",
   "language": "lua",
   "name": "itorch"
  },
  "language_info": {
   "name": "lua",
   "version": "5.1"
  }
 },
 "nbformat": 4,
 "nbformat_minor": 1
}
